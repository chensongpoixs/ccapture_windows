{
 "cells": [
  {
   "cell_type": "code",
   "execution_count": 1,
   "id": "b71e9c53",
   "metadata": {},
   "outputs": [
    {
     "ename": "ArgumentError",
     "evalue": "argument 1: <class 'TypeError'>: wrong type",
     "output_type": "error",
     "traceback": [
      "\u001b[1;31m---------------------------------------------------------------------------\u001b[0m",
      "\u001b[1;31mArgumentError\u001b[0m                             Traceback (most recent call last)",
      "Input \u001b[1;32mIn [1]\u001b[0m, in \u001b[0;36m<cell line: 46>\u001b[1;34m()\u001b[0m\n\u001b[0;32m     53\u001b[0m glutInitWindowSize(\u001b[38;5;241m400\u001b[39m, \u001b[38;5;241m400\u001b[39m)\n\u001b[0;32m     54\u001b[0m \u001b[38;5;66;03m# 创建窗口\u001b[39;00m\n\u001b[1;32m---> 55\u001b[0m \u001b[43mglutCreateWindow\u001b[49m\u001b[43m(\u001b[49m\u001b[38;5;124;43m\"\u001b[39;49m\u001b[38;5;124;43mmyTest1\u001b[39;49m\u001b[38;5;124;43m\"\u001b[39;49m\u001b[43m)\u001b[49m\n\u001b[0;32m     56\u001b[0m \u001b[38;5;28;01mglobal\u001b[39;00m x\n\u001b[0;32m     57\u001b[0m \u001b[38;5;28;01mglobal\u001b[39;00m y\n",
      "File \u001b[1;32mC:\\ProgramData\\Anaconda3\\lib\\site-packages\\OpenGL\\GLUT\\special.py:73\u001b[0m, in \u001b[0;36mglutCreateWindow\u001b[1;34m(title)\u001b[0m\n\u001b[0;32m     67\u001b[0m \u001b[38;5;28;01mdef\u001b[39;00m \u001b[38;5;21mglutCreateWindow\u001b[39m(title):\n\u001b[0;32m     68\u001b[0m     \u001b[38;5;124;03m\"\"\"Create window with given title\u001b[39;00m\n\u001b[0;32m     69\u001b[0m \u001b[38;5;124;03m    \u001b[39;00m\n\u001b[0;32m     70\u001b[0m \u001b[38;5;124;03m    This is the Win32-specific version that handles\u001b[39;00m\n\u001b[0;32m     71\u001b[0m \u001b[38;5;124;03m    registration of an exit-function handler \u001b[39;00m\n\u001b[0;32m     72\u001b[0m \u001b[38;5;124;03m    \"\"\"\u001b[39;00m\n\u001b[1;32m---> 73\u001b[0m     \u001b[38;5;28;01mreturn\u001b[39;00m \u001b[43m__glutCreateWindowWithExit\u001b[49m\u001b[43m(\u001b[49m\u001b[43mtitle\u001b[49m\u001b[43m,\u001b[49m\u001b[43m \u001b[49m\u001b[43m_exitfunc\u001b[49m\u001b[43m)\u001b[49m\n",
      "\u001b[1;31mArgumentError\u001b[0m: argument 1: <class 'TypeError'>: wrong type"
     ]
    }
   ],
   "source": [
    "# -*- coding: utf-8 -*-\n",
    "from OpenGL.GL import *\n",
    "from OpenGL.GLU import *\n",
    "from OpenGL.GLUT import *\n",
    "import numpy as np\n",
    "\n",
    "\n",
    "def init():\n",
    "    glClearColor(1.0, 1.0, 1.0, 0.0)  # 设置画布背景色。注意：这里必须是4个参数\n",
    "    # glClear(GL_COLOR_BUFFER_BIT)  # 将上面的颜色赋值给窗口, 只要有这个先后顺序就行\n",
    "\n",
    "    glMatrixMode(GL_PROJECTION)  #设置投影模式\n",
    "    gluOrtho2D(0,200,0,200)  # 设置画布x，y的范围\n",
    "    glDisable(GL_BLEND)  # 关闭颜色混合\n",
    "\n",
    "    glEnable(GL_LINE_STIPPLE)  #启用线型，可以绘制虚线之类的了\n",
    "\n",
    "\n",
    "\n",
    "# 绘制图像函数\n",
    "def drawFunc():\n",
    "    global x\n",
    "    global y\n",
    "\n",
    "    # 清除屏幕\n",
    "    glClear(GL_COLOR_BUFFER_BIT)\n",
    "\n",
    "    glLineWidth(10.0)  # 设置线的宽度\n",
    "\n",
    "    glBegin(GL_LINE_STRIP)  # 绘制连续线段\n",
    "\n",
    "    glColor4f(1.0, 0.0, 0.0, 1.0)        # 设置当前颜色为红色不透明\n",
    "\n",
    "\n",
    "    for i in range(len(x)):\n",
    "        glVertex2f(x[i]*100,y[i])\n",
    "\n",
    "    glEnd()\n",
    "\n",
    "\n",
    "    # 刷新显示图像，保证前面的OpenGL命令立即执行，而不是让它们在缓冲区中等待。\n",
    "    glFlush()\n",
    "\n",
    "\n",
    "# 主函数\n",
    "if __name__ == \"__main__\":\n",
    "    # 使用glut库初始化OpenGL\n",
    "    glutInit()\n",
    "    # 显示模式 GLUT_SINGLE无缓冲直接显示|GLUT_RGBA采用RGB(A非alpha)\n",
    "    glutInitDisplayMode(GLUT_SINGLE | GLUT_RGBA)\n",
    "    # 设置窗口位置及大小\n",
    "    glutInitWindowPosition(0, 0)  # 位置是指在屏幕的位置\n",
    "    glutInitWindowSize(400, 400)\n",
    "    # 创建窗口\n",
    "    glutCreateWindow(\"myTest1\")\n",
    "    global x\n",
    "    global y\n",
    "    x = np.linspace(0,2* np.pi,num=1000)\n",
    "    y = np.sin(x)* 200\n",
    "\n",
    "\n",
    "    init()\n",
    "\n",
    "\n",
    "    # 调用display()函数绘制图像\n",
    "    glutDisplayFunc(drawFunc)\n",
    "\n",
    "\n",
    "    # 进入glut主循环\n",
    "    glutMainLoop()"
   ]
  },
  {
   "cell_type": "code",
   "execution_count": null,
   "id": "71895052",
   "metadata": {},
   "outputs": [],
   "source": []
  },
  {
   "cell_type": "code",
   "execution_count": null,
   "id": "63e41555",
   "metadata": {},
   "outputs": [],
   "source": []
  }
 ],
 "metadata": {
  "kernelspec": {
   "display_name": "Python 3 (ipykernel)",
   "language": "python",
   "name": "python3"
  },
  "language_info": {
   "codemirror_mode": {
    "name": "ipython",
    "version": 3
   },
   "file_extension": ".py",
   "mimetype": "text/x-python",
   "name": "python",
   "nbconvert_exporter": "python",
   "pygments_lexer": "ipython3",
   "version": "3.9.12"
  }
 },
 "nbformat": 4,
 "nbformat_minor": 5
}
